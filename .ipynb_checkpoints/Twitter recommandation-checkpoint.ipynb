{
 "cells": [
  {
   "cell_type": "code",
   "execution_count": 1,
   "metadata": {},
   "outputs": [],
   "source": [
    "import datetime as dt\n",
    "import math\n",
    "import matplotlib.pyplot as plt\n",
    "import numpy as np\n",
    "import pandas as pd\n",
    "import tweepy\n",
    "from matplotlib import style\n",
    "from sklearn import preprocessing\n",
    "from sklearn.linear_model import LinearRegression\n",
    "from sklearn.model_selection import train_test_split\n",
    "from textblob import TextBlob"
   ]
  },
  {
   "cell_type": "code",
   "execution_count": 2,
   "metadata": {},
   "outputs": [],
   "source": [
    "consumer_key = 'pj6YNhZZBugJ2iVTzprRFeyVv'\n",
    "consumer_secret = 'vV71WKQdcaMuhYIDKufIdSOAxwiydLGGskpj0bueAPeOKruwoT'\n",
    "access_token = '1184086168608088064-863KtlQN4hww75kvv8J5OpAn0nNnzj'\n",
    "access_token_secret = 'bdwBvlMmpLT2WYDBo9rQNMFtuldjduOoPXOHsi6rmehwT'"
   ]
  },
  {
   "cell_type": "code",
   "execution_count": 3,
   "metadata": {},
   "outputs": [],
   "source": [
    "class Tweet(object):\n",
    "\n",
    "    def __init__(self, content, polarity):\n",
    "        self.content = content\n",
    "        self.polarity = polarity"
   ]
  },
  {
   "cell_type": "markdown",
   "metadata": {},
   "source": [
    "# Try To forcast stock with LR"
   ]
  },
  {
   "cell_type": "code",
   "execution_count": 4,
   "metadata": {},
   "outputs": [],
   "source": [
    "def stock_forecasting(df):\n",
    "    forecast_col = 'Close'\n",
    "    forecast_out = int(math.ceil(0.1*len(df)))\n",
    "    df['Label'] = df[[forecast_col]].shift(-forecast_out)\n",
    "\n",
    "    X = np.array(df.drop(['Label'], axis=1))\n",
    "    X = preprocessing.scale(X)\n",
    "    X_forecast = X[-forecast_out:]\n",
    "    X = X[:-forecast_out]\n",
    "\n",
    "    df.dropna(inplace=True)\n",
    "    y = np.array(df['Label'])\n",
    "\n",
    "    X_train, X_test, y_train, y_test = train_test_split(X, y, test_size=0.5)\n",
    "\n",
    "    clf = LinearRegression(n_jobs=-1)\n",
    "    clf.fit(X_train, y_train)\n",
    "    accuracy = clf.score(X_test, y_test)\n",
    "    forecast = clf.predict(X_forecast)\n",
    "\n",
    "    df['Prediction'] = np.nan\n",
    "\n",
    "    last_date = df.iloc[-1].name\n",
    "    last_date = dt.datetime.strptime(str(last_date), \"%Y-%m-%d %H:%M:%S\")\n",
    "\n",
    "    for pred in forecast:\n",
    "        last_date += dt.timedelta(days=1)\n",
    "        df.loc[last_date.strftime(\"%Y-%m-%d\")] = [np.nan for _ in range(len(df.columns) - 1)] + [pred]\n",
    "    return df, forecast_out"
   ]
  },
  {
   "cell_type": "code",
   "execution_count": 5,
   "metadata": {},
   "outputs": [],
   "source": [
    "def forecast_plot(df):\n",
    "    df['Close'].plot(color='black')\n",
    "    df['Prediction'].plot(color='green')\n",
    "    plt.legend(loc=4)\n",
    "    plt.xlabel('Date')\n",
    "    plt.ylabel('Price')\n",
    "    plt.show()"
   ]
  },
  {
   "cell_type": "code",
   "execution_count": 6,
   "metadata": {},
   "outputs": [],
   "source": [
    "def retrieving_tweets_polarity(symbol):\n",
    "    auth = tweepy.OAuthHandler(consumer_key, consumer_secret)\n",
    "    auth.set_access_token(access_token, access_token_secret)\n",
    "    user = tweepy.API(auth)\n",
    "    num_of_tweets = 100\n",
    "\n",
    "    tweets = tweepy.Cursor(user.search, q=str(symbol), tweet_mode='extended', lang='en').items(num_of_tweets)\n",
    "\n",
    "    tweet_list = []\n",
    "    global_polarity = 0\n",
    "    for tweet in tweets:\n",
    "        tw = tweet.full_text\n",
    "        blob = TextBlob(tw)\n",
    "        polarity = 0\n",
    "        for sentence in blob.sentences:\n",
    "            polarity += sentence.sentiment.polarity\n",
    "            global_polarity += sentence.sentiment.polarity\n",
    "        tweet_list.append(Tweet(tw, polarity))\n",
    "\n",
    "    global_polarity = global_polarity / len(tweet_list)\n",
    "    return global_polarity"
   ]
  },
  {
   "cell_type": "code",
   "execution_count": 7,
   "metadata": {},
   "outputs": [],
   "source": [
    "def recommending(df, forecast_out, global_polarity):\n",
    "    if df.iloc[-forecast_out-1]['Close'] < df.iloc[-1]['Prediction']:\n",
    "        if global_polarity > 0:\n",
    "            print(\"According to the predictions and twitter sentiment analysis -> Investing in %s is a GREAT idea!\" % str(symbol))\n",
    "        elif global_polarity < 0:\n",
    "            print(\"According to the predictions and twitter sentiment analysis -> Investing in %s is a BAD idea!\" % str(symbol))\n",
    "    else:\n",
    "        print(\"According to the predictions and twitter sentiment analysis -> Investing in %s is a BAD idea!\" % str(symbol))\n"
   ]
  },
  {
   "cell_type": "code",
   "execution_count": 8,
   "metadata": {},
   "outputs": [
    {
     "data": {
      "text/html": [
       "<div>\n",
       "<style scoped>\n",
       "    .dataframe tbody tr th:only-of-type {\n",
       "        vertical-align: middle;\n",
       "    }\n",
       "\n",
       "    .dataframe tbody tr th {\n",
       "        vertical-align: top;\n",
       "    }\n",
       "\n",
       "    .dataframe thead th {\n",
       "        text-align: right;\n",
       "    }\n",
       "</style>\n",
       "<table border=\"1\" class=\"dataframe\">\n",
       "  <thead>\n",
       "    <tr style=\"text-align: right;\">\n",
       "      <th></th>\n",
       "      <th>Open</th>\n",
       "      <th>High</th>\n",
       "      <th>Low</th>\n",
       "      <th>Close</th>\n",
       "      <th>Volume</th>\n",
       "      <th>Daily Change</th>\n",
       "    </tr>\n",
       "    <tr>\n",
       "      <th>Date</th>\n",
       "      <th></th>\n",
       "      <th></th>\n",
       "      <th></th>\n",
       "      <th></th>\n",
       "      <th></th>\n",
       "      <th></th>\n",
       "    </tr>\n",
       "  </thead>\n",
       "  <tbody>\n",
       "    <tr>\n",
       "      <th>2019-01-02</th>\n",
       "      <td>128.99</td>\n",
       "      <td>137.51</td>\n",
       "      <td>128.56</td>\n",
       "      <td>135.68</td>\n",
       "      <td>28146192</td>\n",
       "      <td>0.000000</td>\n",
       "    </tr>\n",
       "    <tr>\n",
       "      <th>2019-01-03</th>\n",
       "      <td>134.69</td>\n",
       "      <td>137.17</td>\n",
       "      <td>131.12</td>\n",
       "      <td>131.74</td>\n",
       "      <td>22717948</td>\n",
       "      <td>-0.029039</td>\n",
       "    </tr>\n",
       "    <tr>\n",
       "      <th>2019-01-04</th>\n",
       "      <td>134.01</td>\n",
       "      <td>138.00</td>\n",
       "      <td>133.75</td>\n",
       "      <td>137.95</td>\n",
       "      <td>29002060</td>\n",
       "      <td>0.047138</td>\n",
       "    </tr>\n",
       "    <tr>\n",
       "      <th>2019-01-07</th>\n",
       "      <td>137.56</td>\n",
       "      <td>138.87</td>\n",
       "      <td>135.91</td>\n",
       "      <td>138.05</td>\n",
       "      <td>20089336</td>\n",
       "      <td>0.000725</td>\n",
       "    </tr>\n",
       "    <tr>\n",
       "      <th>2019-01-08</th>\n",
       "      <td>139.89</td>\n",
       "      <td>143.14</td>\n",
       "      <td>139.54</td>\n",
       "      <td>142.53</td>\n",
       "      <td>26263792</td>\n",
       "      <td>0.032452</td>\n",
       "    </tr>\n",
       "  </tbody>\n",
       "</table>\n",
       "</div>"
      ],
      "text/plain": [
       "              Open    High     Low   Close    Volume  Daily Change\n",
       "Date                                                              \n",
       "2019-01-02  128.99  137.51  128.56  135.68  28146192      0.000000\n",
       "2019-01-03  134.69  137.17  131.12  131.74  22717948     -0.029039\n",
       "2019-01-04  134.01  138.00  133.75  137.95  29002060      0.047138\n",
       "2019-01-07  137.56  138.87  135.91  138.05  20089336      0.000725\n",
       "2019-01-08  139.89  143.14  139.54  142.53  26263792      0.032452"
      ]
     },
     "execution_count": 8,
     "metadata": {},
     "output_type": "execute_result"
    }
   ],
   "source": [
    "fb = pd.read_csv('fb.csv',index_col='Date',parse_dates=True)\n",
    "fb.head()"
   ]
  },
  {
   "cell_type": "code",
   "execution_count": 9,
   "metadata": {},
   "outputs": [],
   "source": [
    "(dataframe, forecast_out) = stock_forecasting(fb)"
   ]
  },
  {
   "cell_type": "code",
   "execution_count": 10,
   "metadata": {},
   "outputs": [
    {
     "data": {
      "image/png": "[encoded data removed]",
      "text/plain": [
       "<Figure size 432x288 with 1 Axes>"
      ]
     },
     "metadata": {
      "needs_background": "light"
     },
     "output_type": "display_data"
    }
   ],
   "source": [
    "forecast_plot(dataframe)"
   ]
  },
  {
   "cell_type": "code",
   "execution_count": 11,
   "metadata": {},
   "outputs": [],
   "source": [
    "symbol = '$fb'\n",
    "polarity = retrieving_tweets_polarity(symbol)"
   ]
  },
  {
   "cell_type": "code",
   "execution_count": 12,
   "metadata": {},
   "outputs": [
    {
     "name": "stdout",
     "output_type": "stream",
     "text": [
      "According to the predictions and twitter sentiment analysis -> Investing in $fb is a BAD idea!\n"
     ]
    }
   ],
   "source": [
    "recommending(dataframe, forecast_out, polarity)"
   ]
  }
 ],
 "metadata": {
  "kernelspec": {
   "display_name": "Python 3",
   "language": "python",
   "name": "python3"
  },
  "language_info": {
   "codemirror_mode": {
    "name": "ipython",
    "version": 3
   },
   "file_extension": ".py",
   "mimetype": "text/x-python",
   "name": "python",
   "nbconvert_exporter": "python",
   "pygments_lexer": "ipython3",
   "version": "3.8.1"
  }
 },
 "nbformat": 4,
 "nbformat_minor": 4
}
